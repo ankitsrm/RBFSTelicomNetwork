{
  "cells": [
    {
      "cell_type": "markdown",
      "metadata": {
        "id": "XitwsG3x2t5m"
      },
      "source": [
        "# Artificial and Computational Intelligence"
      ]
    },
    {
      "cell_type": "markdown",
      "metadata": {
        "id": "1KuvkR0q2t5u"
      },
      "source": [
        "## Problem solving by Uninformed & Informed Search"
      ]
    },
    {
      "cell_type": "markdown",
      "metadata": {
        "id": "YYZeZCnk2t5z"
      },
      "source": [
        "Things to follow\n",
        "1.\tUse appropriate data structures to represent the graph and the path using python libraries\n",
        "2.\tProvide proper documentation\n",
        "3.\tFind the path and print it"
      ]
    },
    {
      "cell_type": "markdown",
      "metadata": {
        "id": "rAvPAG-I2t50"
      },
      "source": [
        "Coding begins here"
      ]
    },
    {
      "cell_type": "markdown",
      "metadata": {
        "id": "eX6wHBKJ2t52"
      },
      "source": [
        "### 1.\tDefine the environment in the following block"
      ]
    },
    {
      "cell_type": "markdown",
      "metadata": {
        "id": "_IX1_9r32t54"
      },
      "source": [
        "List the PEAS decription of the problem here in this markdown block\n",
        "\n",
        "**PEAS for Network Agent**\n",
        "\n",
        "\n",
        "1. Performance measure : Stable Network, Bandwidth/Capacity/Speed/Transfer Rate, Latency, Throughput.\n",
        "\n",
        "2. Environment         : Cloudy, Rainy, Safe, Ram, SFTP network protal, Firewall, Ports, Load Balancer.\n",
        "\n",
        "3. Actuator            : Server Load Balance Traffic Analyzer.\n",
        "\n",
        "4. Sensor              : \n",
        "                         Range sensor --- Distance \n",
        "                         Temperature Sensor --- Temprature \n",
        "                         Weather sensor -- Weather\n",
        "                         Wireless Sensor -- To keep track of SFTP connection.\n",
        "                         Down Detector, Leap Sensors -- Server Down Time \n"
      ]
    },
    {
      "cell_type": "markdown",
      "metadata": {
        "id": "kh6bNPuM2t56"
      },
      "source": [
        "Design the agent as PSA Agent(Problem Solving Agent) \n",
        "Clear Initial data structures to define the graph and variable declarations is expected \n",
        "IMPORTATANT: Write distinct code block as below"
      ]
    },
    {
      "cell_type": "code",
      "execution_count": null,
      "metadata": {
        "id": "S0wY5isf2t58"
      },
      "outputs": [],
      "source": [
        "#Code Block : Set Initial State (Must handle dynamic inputs)\n",
        "from queue import Queue\n",
        "import queue"
      ]
    },
    {
      "cell_type": "code",
      "execution_count": null,
      "metadata": {},
      "outputs": [],
      "source": []
    },
    {
      "cell_type": "code",
      "execution_count": null,
      "metadata": {
        "id": "NdmwKs3w2t6B"
      },
      "outputs": [],
      "source": [
        "#Code Block : Set the matrix for transition & cost (as relevant for the given problem)"
      ]
    },
    {
      "cell_type": "code",
      "execution_count": null,
      "metadata": {
        "id": "0j2-9t4a2t6C"
      },
      "outputs": [],
      "source": [
        "#Code Block : Write function to design the Transition Model/Successor function. Ideally this would be called while search algorithms are implemented"
      ]
    },
    {
      "cell_type": "code",
      "execution_count": null,
      "metadata": {
        "id": "k1xdDlC72t6D"
      },
      "outputs": [],
      "source": [
        "#Code block : Write fucntion to handle goal test (Must handle dynamic inputs). Ideally this would be called while search algorithms are implemented"
      ]
    },
    {
      "cell_type": "markdown",
      "metadata": {
        "id": "3s-ysFBj2t6E"
      },
      "source": [
        "### 2.\tDefinition of Algorithm 1 (BREADTH FIRST SEARCH)\n",
        "\n",
        "BREADTH FIRST SEARCH(Uninformed Serach) implementation to find optimal path from starting point to end point."
      ]
    },
    {
      "cell_type": "code",
      "execution_count": 24,
      "metadata": {
        "id": "tIOzx5kl2t6E"
      },
      "outputs": [],
      "source": [
        "#Code Block : Function for algorithm 1 implementation\n",
        "def breadthFirstSearch (startingPoint,time_comp,space_comp):\n",
        "    visited = {}                                                 # Dictionary of visited nodes\n",
        "    level = {}                                                   # Dictionary to maintain level info\n",
        "    parent = {}                                                  # Dictionary of parent nodes\n",
        "    bfs_traversal_output = []                                    # Array to store Breadth First Search treversal output\n",
        "    queue = Queue()                                              # Queue to process each node\n",
        "    time_comp = 0                                                # Variable to store time complexity\n",
        "    space_comp = 0                                               # Variable to store space complexity\n",
        "    traversal_branch = 0                                         # Variable to travered branch length                                                          \n",
        "    maximum_depth = 0                                            # Variable to store max depth of queue\n",
        "\n",
        "    for node in nodesList.keys():                                # For each loop to process each node from node list\n",
        "        visited[node] = False                                    # None of the node is visited now thats why set false\n",
        "        parent[node] = None                                      # Parent is none when no node visited\n",
        "        level[node] = -1                                         # level 0 when no node visited\n",
        "\n",
        "    s = startingPoint                                            # Starting point for grapgh treversal\n",
        "    visited[s] = True                                            # Set starting point as visited true\n",
        "    level[s] = 0                                                 # Set level for visited node\n",
        "    queue.put(s)                                                 # Updated queue with visited node\n",
        "    time_comp = time_comp+1                                      # Update time complexity for visited node\n",
        "    maximum_depth = max(maximum_depth,len(list(queue.queue)))    # Update maximum depth of node\n",
        "\n",
        "    while not queue.empty():                                     # Loop until queue is not empty\n",
        "        u = queue.get()\n",
        "        bfs_traversal_output.append(u)                           # Appending visited node in BFS output\n",
        "\n",
        "        for v in nodesList[u]:                                   # Traversing child nodes from parent node\n",
        "            for key, value in v.items():\n",
        "                nodeName = key\n",
        "                nodeValue = value\n",
        "\n",
        "                if not visited[nodeName]:                       # Update values if node has not visted\n",
        "                    visited [nodeName] = True\n",
        "                    parent [nodeName] = u\n",
        "                    level[nodeName] = level[u]+1\n",
        "                    queue.put(nodeName)\n",
        "                    time_comp = time_comp + 1\n",
        "        maximum_depth = max(maximum_depth, len(list(queue.queue)))   # Update maximum depth of node after updating the queue\n",
        "\n",
        "\n",
        "    traversal_branch = len(level)                                  # Getting traversal lenght\n",
        "    space_comp = traversal_branch*maximum_depth                    # Computing space complexity by b*d where b is branch and d is depth \n",
        "   \n",
        "    return time_comp,space_comp,bfs_traversal_output               # returning path, space and time complexities"
      ]
    },
    {
      "cell_type": "markdown",
      "metadata": {
        "id": "8fNoEbf22t6F"
      },
      "source": [
        "### 3.\tDefinition of Algorithm 2 (Recursive Best First Search )\n",
        "\n",
        "Recursive Best First Search(Informed Search) implementation to find optimal path from Starting point to end point."
      ]
    },
    {
      "cell_type": "code",
      "execution_count": 25,
      "metadata": {
        "id": "mm8jUJwb2t6F"
      },
      "outputs": [],
      "source": [
        "#Code Block : Function for algorithm 2 implementation\n",
        "\n",
        "def valueUpdate (dict, srckey ,srcvalue):                                      # code block to update value of visited node with updated sorted cost\n",
        "    for key,value in nodesList.items():\n",
        "        dictKey = key\n",
        "                \n",
        "        for v in nodesList[dictKey]:\n",
        "            for key1, value1 in v.items():\n",
        "                if key1 == srckey:\n",
        "                    \n",
        "                    checkKey(v,srckey,srcvalue)\n",
        "                \n",
        "def checkKey(dict, key, value):       \n",
        "    if key in dict.keys():  \n",
        "        dict.update({key:value})  \n",
        "    else:\n",
        "        print(\"Not Exist\")\n",
        "\n",
        "def recursiveBestFirstSearch(startingPoint,time_comp,space_comp):\n",
        "    visited = {}                                                                # Dictionary to maintain visited nodes\n",
        "    level = {}                                                                  # Dictionary to maintain level info\n",
        "    parent = {}                                                                 # Dictionary of parent nodes\n",
        "    costContainer = []                                                          # Array to store cost of path\n",
        "    space_complex = 0\n",
        "    recursivePath = []                                                          # Array to store recursive path\n",
        "    queue = Queue()                                                             # Queue to process each node\n",
        "    traversal_branch = 0                                                        # Variable to travered branch length  \n",
        "    maximum_depth = 0                                                           # Variable to store max depth of queue\n",
        "\n",
        "    for node in nodesList.keys():                                               # For each loop to process each node from node list\n",
        "        visited[node] = False                                                   # None of the node is visited now thats why set false\n",
        "        parent[node] = None                                                     # Set initial value for parent when node is not visited\n",
        "        level[node] = -1                                                        # Set initial value for level when no is not visited\n",
        "\n",
        "    s = startingPoint                                                           # Getting strating point to start treversal\n",
        "    visited[s] = True                                                           # Set visited as true for each node from nodelist\n",
        "    level[s] = 0                                                                # Updating level of each node from nodelist\n",
        "    queue.put(s)                                                                # Updating queue with visited node\n",
        "    time_comp = time_comp + 1\n",
        "\n",
        "    maximum_depth = max(maximum_depth, len(list(queue.queue)))                  # Update maximum depth of node after updating the queue\n",
        "    recursivePath.append(s)                                                     # Appending recursive path of traversal                                 \n",
        "    previousPathCost = 0                                                        # Here previous path cost is zero\n",
        "    totalNode =12\n",
        "\n",
        "    for i in range(totalNode):                                                  # Loop to process code block until total nodes\n",
        "        u = queue.get()                                                         # Getting node from queue to check its childs\n",
        "        nodeName= None\n",
        "        for v in nodesList[u]:                                                  # Loop to process each child \n",
        "\n",
        "            for key, value in v.items():                                        # Loop to process each key and value from given child\n",
        "                nodeName = key\n",
        "                nodeValue = value\n",
        "                costContainer.append(nodeValue)                                 # Update cost container with node value(path cost)\n",
        "\n",
        "            costContainer.sort()                                                # Sort the container\n",
        "\n",
        "            costEffectivePath = list(v.keys())[list(v.values()).index(costContainer[0])]   # Asserting node which has minimum value of cost\n",
        "\n",
        "            if not visited[costEffectivePath]:                                  # Code block if node has not visited than visit node and update queue\n",
        "                visited [costEffectivePath] = True\n",
        "                parent [costEffectivePath] = u\n",
        "                level[costEffectivePath] = level[u]+1\n",
        "                queue.put(costEffectivePath)\n",
        "                time_comp = time_comp + 1\n",
        "\n",
        "            else:                                                               # Code block if node has visited than discard\n",
        "                valueUpdate(v,recursivePath[-1],previousPathCost)               \n",
        "\n",
        "                costContainer.clear()\n",
        "                for key, value in v.items():\n",
        "                    nodeName = key\n",
        "                    nodeValue = value\n",
        "                    costContainer.append(nodeValue)\n",
        "\n",
        "                costContainer.sort()\n",
        "\n",
        "                costEffectivePath = list(v.keys())[list(v.values()).index(costContainer[0])]\n",
        "                queue.put(costEffectivePath)\n",
        "                time_comp = time_comp + 1\n",
        "\n",
        "            previousPathCost = previousPathCost + costContainer[0]\n",
        "            costContainer.clear()\n",
        "\n",
        "            recursivePath.append(costEffectivePath)                             # Appending recursive path\n",
        "\n",
        "\n",
        "        maximum_depth = max(maximum_depth, len(list(queue.queue)))              # Getting maximum depth of queue\n",
        "\n",
        "    traversal_branch = len(level)                                               # Getting traversal lenght\n",
        "    space_comp = traversal_branch * maximum_depth                               # Computing space complexity by b*d where b is branch and d is depth                             \n",
        "  \n",
        "    return time_comp,space_comp,recursivePath                                   # returning path, space and time complexities"
      ]
    },
    {
      "cell_type": "markdown",
      "metadata": {
        "id": "3B1gYpfl2t6G"
      },
      "source": [
        "### DYNAMIC INPUT"
      ]
    },
    {
      "cell_type": "markdown",
      "metadata": {
        "id": "5H4u-xer2t6H"
      },
      "source": [
        "IMPORTANT : Dynamic Input must be got in this section. Display the possible states to choose from:\n",
        "This is applicable for all the relevent problems as mentioned in the question. "
      ]
    },
    {
      "cell_type": "code",
      "execution_count": 23,
      "metadata": {
        "colab": {
          "base_uri": "https://localhost:8080/"
        },
        "id": "i8ox1KDW2t6H",
        "outputId": "4b18ce1d-9919-4770-8245-e9f71d3a7565"
      },
      "outputs": [
        {
          "name": "stdout",
          "output_type": "stream",
          "text": [
            "============== Breadth First Search ================= \n",
            "Enter Starting point for BFS :A\n",
            "============= Recursive Best First Search =================\n",
            "Enter Starting point for RBFS : A\n"
          ]
        }
      ],
      "source": [
        "#Code Block : Function & call to get inputs (start/end state)\n",
        "nodesList = {                                                    #NodeList : A dictionary which will store given undirected graph.\n",
        "    \"A\": [{\"C\": 10,\"B\":15 ,\"D\" : 17,\"G\": 5}],\n",
        "    \"B\": [{\"D\":12,\"A\":15}],\n",
        "    \"C\": [{\"G\":5,\"A\":10}],\n",
        "    \"D\": [{\"E\": 2,\"F\":10,\"H\":4,\"A\":17}],\n",
        "    \"E\": [{\"D\":4}],\n",
        "    \"F\": [{\"D\":10,\"H\": 11}],\n",
        "    \"G\": [{\"H\":25,\"C\":7}],\n",
        "    \"H\": [{\"F\":11,\"D\":4}]  \n",
        "}\n",
        "\n",
        "print(\"============== Breadth First Search ================= \")\n",
        "\n",
        "startingPointBFS= input(\"Enter Starting point for BFS :\" )\n",
        "\n",
        "print(\"============= Recursive Best First Search =================\")\n",
        "\n",
        "startingPointRBFS = input(\"Enter Starting point for RBFS : \")\n"
      ]
    },
    {
      "cell_type": "markdown",
      "metadata": {
        "id": "J9NwMqiw2t6I"
      },
      "source": [
        "### 4.\tCalling the search algorithms\n",
        "(For bidirectional search in below sections first part can be used as per Hint provided. Under second section other combinations as per Hint or your choice of 2 algorithms can be called .As an analyst suggest suitable approximation in the comparitive analysis section)"
      ]
    },
    {
      "cell_type": "code",
      "execution_count": 26,
      "metadata": {
        "colab": {
          "base_uri": "https://localhost:8080/"
        },
        "id": "SpjasGsi2t6I",
        "outputId": "877668d1-0438-4322-f5fd-55d4c7e29b25"
      },
      "outputs": [
        {
          "name": "stdout",
          "output_type": "stream",
          "text": [
            "Breadth First Search path --  ['A', 'C', 'B', 'D', 'G', 'E', 'F', 'H']\n"
          ]
        }
      ],
      "source": [
        "#Invoke algorithm 1 (Should Print the solution, path, cost etc., (As mentioned in the problem))\n",
        "time_comp_bfs,space_comp_bfs,bfs_traversal_output = breadthFirstSearch(startingPointBFS,0,0)\n",
        "print(\"Breadth First Search path -- \", bfs_traversal_output)"
      ]
    },
    {
      "cell_type": "code",
      "execution_count": 27,
      "metadata": {
        "colab": {
          "base_uri": "https://localhost:8080/"
        },
        "id": "x-JixGfU2t6J",
        "outputId": "62d8eb0d-463f-4230-e86f-346ba975a32c"
      },
      "outputs": [
        {
          "name": "stdout",
          "output_type": "stream",
          "text": [
            "Recursive best first search path --  ['A', 'G', 'C', 'G', 'C', 'A', 'B', 'D', 'E', 'D', 'H', 'D', 'F']\n"
          ]
        }
      ],
      "source": [
        "#Invoke algorithm 2 (Should Print the solution, path, cost etc., (As mentioned in the problem))\n",
        "time_comp,space_comp,recursivePath = recursiveBestFirstSearch(startingPointRBFS,0,0)\n",
        "print(\"Recursive best first search path -- \", recursivePath)"
      ]
    },
    {
      "cell_type": "markdown",
      "metadata": {
        "id": "T8Dw19sB2t6J"
      },
      "source": [
        "### 5.\tComparitive Analysis"
      ]
    },
    {
      "cell_type": "code",
      "execution_count": 28,
      "metadata": {
        "colab": {
          "base_uri": "https://localhost:8080/"
        },
        "id": "qzaPagqp2t6K",
        "outputId": "a9f4fde4-a86f-42b1-e174-e7ceeb8c294e"
      },
      "outputs": [
        {
          "name": "stdout",
          "output_type": "stream",
          "text": [
            "Time complexity for Breadth First Search :  8\n",
            "Space complexity for Breadth First Search :  32\n"
          ]
        }
      ],
      "source": [
        "#Code Block : Print the Time & Space complexity of algorithm 1 \n",
        "print(\"Time complexity for Breadth First Search : \", time_comp_bfs)\n",
        "print(\"Space complexity for Breadth First Search : \", space_comp_bfs)\n",
        " "
      ]
    },
    {
      "cell_type": "code",
      "execution_count": 29,
      "metadata": {
        "colab": {
          "base_uri": "https://localhost:8080/"
        },
        "id": "eNvIRNjH2t6K",
        "outputId": "a9577d9f-f39f-4167-f49a-e35cb4750c4c"
      },
      "outputs": [
        {
          "name": "stdout",
          "output_type": "stream",
          "text": [
            "Time complexity for Recursive Best First Search :  13\n",
            "Space complexity for Recursive Best First Search :  8\n"
          ]
        }
      ],
      "source": [
        "#Code Block : Print the Time & Space complexity of algorithm 2\n",
        "print(\"Time complexity for Recursive Best First Search : \", time_comp)\n",
        "print(\"Space complexity for Recursive Best First Search : \", space_comp)"
      ]
    },
    {
      "cell_type": "markdown",
      "metadata": {
        "id": "xRzhB93g2t6K"
      },
      "source": [
        "### 6.\tProvide your comparitive analysis or findings in no more than 3 lines in below section"
      ]
    },
    {
      "cell_type": "markdown",
      "metadata": {
        "id": "hUuyRvk52t6L"
      },
      "source": [
        "Comparison : As when we comparing the TimeComplexity for both the algorithm, we found up BFS time complexity is lesser than Recursive Best First Search.Which is because of BFS is traversing a tree where each node is a state which may be a potential candidate for solution but when we go for RBFS that runs in space that is linear with respect to the maximum search depth, regardless of the cost function used."
      ]
    }
  ],
  "metadata": {
    "colab": {
      "collapsed_sections": [],
      "name": "ACI-Assignment-1-SolutionTemplate.ipynb",
      "provenance": []
    },
    "kernelspec": {
      "display_name": "Python 3",
      "language": "python",
      "name": "python3"
    },
    "language_info": {
      "codemirror_mode": {
        "name": "ipython",
        "version": 3
      },
      "file_extension": ".py",
      "mimetype": "text/x-python",
      "name": "python",
      "nbconvert_exporter": "python",
      "pygments_lexer": "ipython3",
      "version": "3.9.4"
    }
  },
  "nbformat": 4,
  "nbformat_minor": 0
}
